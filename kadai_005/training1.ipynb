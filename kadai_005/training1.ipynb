{
  "nbformat": 4,
  "nbformat_minor": 0,
  "metadata": {
    "colab": {
      "provenance": [],
      "toc_visible": true
    },
    "kernelspec": {
      "name": "python3",
      "display_name": "Python 3"
    },
    "language_info": {
      "name": "python"
    }
  },
  "cells": [
    {
      "cell_type": "code",
      "source": [
        "# 台形の面積を求める\n",
        "# 公式：台形の面積 =（上辺＋下辺）× 高さ ÷ 2\n",
        "# 上辺：10cm\n",
        "# 下辺：20cm\n",
        "# 高さ：5cm\n",
        "# 出力結果：「◯◯cm²」と単位をつける\n",
        "\n",
        "top_side = 10\n",
        "bottom_side = 20\n",
        "hight = 5\n",
        "\n",
        "# 小数点がついたままの数式\n",
        "area_1 = f\"{(top_side + bottom_side) * hight / 2}㎠\"\n",
        "print(area_1)\n",
        "\n",
        "# 整数値（小数点を排除）にした数式\n",
        "aria_2 =f\"{int((top_side + bottom_side) * hight / 2)}㎠\"\n",
        "print(aria_2)\n",
        "\n",
        "#課題再提出(面積の計算結果を一度変数に代入)\n",
        "aria = (top_side + bottom_side) * hight / 2\n",
        "print(f\"{aria}㎠\")\n",
        "print(f\"{int(aria)}㎠\")"
      ],
      "metadata": {
        "colab": {
          "base_uri": "https://localhost:8080/"
        },
        "id": "gW0N6DHFoluY",
        "outputId": "432826a2-e517-4950-ef28-c967e9e401e2"
      },
      "execution_count": null,
      "outputs": [
        {
          "output_type": "stream",
          "name": "stdout",
          "text": [
            "75.0㎠\n",
            "75㎠\n",
            "75.0㎠\n",
            "75㎠\n"
          ]
        }
      ]
    }
  ]
}