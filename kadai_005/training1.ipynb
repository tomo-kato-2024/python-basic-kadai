{
  "nbformat": 4,
  "nbformat_minor": 0,
  "metadata": {
    "colab": {
      "provenance": [],
      "toc_visible": true
    },
    "kernelspec": {
      "name": "python3",
      "display_name": "Python 3"
    },
    "language_info": {
      "name": "python"
    }
  },
  "cells": [
    {
      "cell_type": "code",
      "source": [
        "# 台形の面積を求める\n",
        "# 公式：台形の面積 =（上辺＋下辺）× 高さ ÷ 2\n",
        "# 上辺：10cm\n",
        "# 下辺：20cm\n",
        "# 高さ：5cm\n",
        "# 出力結果：「◯◯cm²」と単位をつける\n",
        "\n",
        "top_side = 10\n",
        "bottom_side = 20\n",
        "hight = 5\n",
        "\n",
        "# 小数点がついたままの数式\n",
        "area_1 = f\"{(top_side + bottom_side) * hight / 2}㎠\"\n",
        "print(area_1)\n",
        "\n",
        "# 整数値（小数点を排除）にした数式\n",
        "aria_2 =f\"{int((top_side + bottom_side) * hight / 2)}㎠\"\n",
        "print(aria_2)"
      ],
      "metadata": {
        "colab": {
          "base_uri": "https://localhost:8080/"
        },
        "id": "gW0N6DHFoluY",
        "outputId": "814a654f-dac3-49ba-f280-df4ae5178a3c"
      },
      "execution_count": 32,
      "outputs": [
        {
          "output_type": "stream",
          "name": "stdout",
          "text": [
            "75.0㎠\n",
            "75㎠\n"
          ]
        }
      ]
    },
    {
      "cell_type": "code",
      "source": [],
      "metadata": {
        "id": "GB5gmuEhoyxJ"
      },
      "execution_count": null,
      "outputs": []
    }
  ]
}