{
 "cells": [
  {
   "cell_type": "markdown",
   "metadata": {
    "id": "ZglqKsepfsJR"
   },
   "source": [
    "#kadai_007"
   ]
  },
  {
   "cell_type": "code",
   "execution_count": null,
   "metadata": {
    "colab": {
     "base_uri": "https://localhost:8080/"
    },
    "id": "HxJxE-13gR3s",
    "outputId": "4d885529-acaf-4d8f-d57e-67c1da02081d"
   },
   "outputs": [
    {
     "name": "stdout",
     "output_type": "stream",
     "text": [
      "['月曜日は晴れです', '火曜日は雨です', '水曜日は晴れです', '木曜日は晴れです', '金曜日は曇りです', '土曜日は曇りのち雨です', '日曜日は雷雨です']\n",
      "{'mon': '晴れ', 'tue': '雨', 'wed': '晴れ', 'thu': '晴れ', 'fri': '曇り', 'sat': '曇りのち雨', 'sun': '雷雨'}\n",
      "水曜日は晴れです\n",
      "晴れ\n",
      "水曜日は晴れです\n"
     ]
    }
   ],
   "source": [
    "#課題　水曜日の天気予報を取り出して出力\n",
    "#リスト（array）とディクショナリ（dictionary）\n",
    "\n",
    "#リストの作成\n",
    "array=[\"月曜日は晴れです\",\"火曜日は雨です\",\"水曜日は晴れです\",\"木曜日は晴れです\",\"金曜日は曇りです\",\"土曜日は曇りのち雨です\",\"日曜日は雷雨です\"]\n",
    "\n",
    "#ディクショナリの作成\n",
    "dictionary={\"mon\": \"晴れ\",\"tue\": \"雨\",\"wed\": \"晴れ\",\"thu\": \"晴れ\",\"fri\": \"曇り\",\"sat\": \"曇りのち雨\",\"sun\": \"雷雨\"}\n",
    "\n",
    "#全リストとディクショナリの表示確認\n",
    "print(array)\n",
    "print(dictionary)\n",
    "\n",
    "#水曜日の天気予報をリストから出力\n",
    "print(array[2])\n",
    "\n",
    "#水曜日の天気予報をディクショナリから出力\n",
    "print(dictionary[\"wed\"])\n",
    "print(\"水曜日は\"+dictionary[\"wed\"]+\"です\")\n"
   ]
  }
 ],
 "metadata": {
  "colab": {
   "provenance": [],
   "toc_visible": true
  },
  "kernelspec": {
   "display_name": "Python 3",
   "name": "python3"
  },
  "language_info": {
   "name": "python"
  }
 },
 "nbformat": 4,
 "nbformat_minor": 0
}
