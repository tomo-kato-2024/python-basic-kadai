{
 "cells": [
  {
   "cell_type": "markdown",
   "metadata": {
    "id": "8PqKEAhH-05V"
   },
   "source": [
    "# kadai_008"
   ]
  },
  {
   "cell_type": "code",
   "execution_count": null,
   "metadata": {
    "colab": {
     "base_uri": "https://localhost:8080/"
    },
    "id": "BfUO0AKM-9jj",
    "outputId": "80fffd37-c2aa-4522-e236-97415588d6ea"
   },
   "outputs": [
    {
     "name": "stdout",
     "output_type": "stream",
     "text": [
      "代入された値は26\n",
      "26\n",
      "26\n"
     ]
    }
   ],
   "source": [
    "#課題　条件分岐をするコードを記述する。値はprint関数で出力。\n",
    "#・変数varが、3の倍数の場合は「Fizz」を出力\n",
    "#・変数varが、5の倍数の場合は「Buzz」を出力\n",
    "#・変数varが、3の倍数と5の倍数の両方に該当する場合は「FizzBuzz」を出力\n",
    "#・上記のどの場合にも該当しない場合は、変数varの値を出力\n",
    "#ただし、変数varは正の整数とします。\n",
    "\n",
    "#変数verにはランダムに1～45の値が入る\n",
    "ver = random.randint(1,45)\n",
    "print(\"代入された値は\"+str(ver))\n",
    "\n",
    "if ver % 3 == 0 and ver % 5 == 0:   #verが3の倍数でかつ5の倍数\n",
    "    print(\"FizzBuzz\")\n",
    "elif ver % 3 == 0:  #verが3の倍数である\n",
    "    print(\"Fizz\")\n",
    "elif ver % 5 == 0:  #verが5の倍数である\n",
    "    print(\"Buzz\")\n",
    "else:\n",
    "    print(ver)\n",
    "\n",
    "#条件分岐を上から行っていくとしたら場合\n",
    "\n",
    "if ver % 3 == 0 and ver % 5 != 0:\n",
    "    print(\"Fizz\")\n",
    "elif ver % 5 == 0 and ver % 3 != 0:\n",
    "    print(\"Buzz\")\n",
    "elif ver % 3 == 0 and ver % 5 == 0:\n",
    "    print(\"FizzBuzz\")\n",
    "else:\n",
    "    print(ver)"
   ]
  }
 ],
 "metadata": {
  "colab": {
   "provenance": [],
   "toc_visible": true
  },
  "kernelspec": {
   "display_name": "Python 3",
   "name": "python3"
  },
  "language_info": {
   "name": "python"
  }
 },
 "nbformat": 4,
 "nbformat_minor": 0
}
