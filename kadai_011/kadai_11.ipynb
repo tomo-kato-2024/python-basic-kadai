{
 "cells": [
  {
   "cell_type": "markdown",
   "metadata": {
    "id": "E0dbSPbTBNda"
   },
   "source": [
    "# kadai_011"
   ]
  },
  {
   "cell_type": "code",
   "execution_count": 36,
   "metadata": {
    "colab": {
     "base_uri": "https://localhost:8080/"
    },
    "id": "W4fSAuQMBssJ",
    "outputId": "d2e18e4d-7a82-4c2c-f828-29ac0c3f17a1"
   },
   "outputs": [
    {
     "name": "stdout",
     "output_type": "stream",
     "text": [
      "水\n",
      "金\n",
      "地\n",
      "火\n",
      "木\n",
      "土\n",
      "天\n",
      "海\n",
      "冥\n",
      "水\n",
      "金\n",
      "地\n",
      "火\n",
      "木\n",
      "土\n",
      "天\n",
      "海\n",
      "冥\n"
     ]
    }
   ],
   "source": [
    "array = [\"水\",\"金\",\"地\",\"火\",\"木\",\"土\",\"天\",\"海\",\"冥\"]\n",
    "#2回表示させる\n",
    "num = 0\n",
    "while num < 2 :\n",
    "    num = num + 1\n",
    "    for element in (array):\n",
    "      print(element)\n",
    "    if num > 3 :\n",
    "        break"
   ]
  }
 ],
 "metadata": {
  "colab": {
   "provenance": [],
   "toc_visible": true
  },
  "kernelspec": {
   "display_name": "Python 3",
   "name": "python3"
  },
  "language_info": {
   "name": "python"
  }
 },
 "nbformat": 4,
 "nbformat_minor": 0
}
