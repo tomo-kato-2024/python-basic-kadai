{
 "cells": [
  {
   "cell_type": "markdown",
   "metadata": {
    "id": "TzfX-sk-0y1P"
   },
   "source": [
    "課題11"
   ]
  },
  {
   "cell_type": "code",
   "execution_count": null,
   "metadata": {
    "colab": {
     "base_uri": "https://localhost:8080/"
    },
    "id": "woYZFlJo0_kO",
    "outputId": "80038f44-49b6-45a6-88af-c33db443a906"
   },
   "outputs": [
    {
     "name": "stdout",
     "output_type": "stream",
     "text": [
      "水\n",
      "金\n",
      "地\n",
      "火\n",
      "木\n",
      "土\n",
      "天\n",
      "海\n",
      "冥\n",
      "水\n",
      "金\n",
      "地\n",
      "火\n",
      "木\n",
      "土\n",
      "天\n",
      "海\n",
      "冥\n"
     ]
    }
   ],
   "source": [
    "array = [\"水\",\"金\",\"地\",\"火\",\"木\",\"土\",\"天\",\"海\",\"冥\"]\n",
    "#1\tforを用いて繰り返し処理が記述されている\n",
    "for element in (array):\n",
    "  print(element)\n",
    "#\n",
    "#2\twhileを用いて繰り返し処理が記述されている\n",
    "#------考え方-----\n",
    "#arrayのリストに何個の要素が入っているかを確認\n",
    "#要素の個数分出力する\n",
    "#print(len(array))\n",
    "#\n",
    "num = 0\n",
    "while num < len(array):\n",
    "  #print(num)\n",
    "  element = array[num]\n",
    "  print(element)\n",
    "  num = num + 1"
   ]
  }
 ],
 "metadata": {
  "colab": {
   "provenance": []
  },
  "kernelspec": {
   "display_name": "Python 3",
   "name": "python3"
  },
  "language_info": {
   "name": "python"
  }
 },
 "nbformat": 4,
 "nbformat_minor": 0
}
