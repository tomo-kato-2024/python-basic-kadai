{
 "cells": [
  {
   "cell_type": "markdown",
   "metadata": {
    "id": "nVK0tS-7mjBP"
   },
   "source": [
    "課題13"
   ]
  },
  {
   "cell_type": "code",
   "execution_count": null,
   "metadata": {
    "colab": {
     "base_uri": "https://localhost:8080/"
    },
    "id": "u2DS04nXmWh_",
    "outputId": "900a720f-e5c4-4016-a116-76b1d7c2c4f2"
   },
   "outputs": [
    {
     "name": "stdout",
     "output_type": "stream",
     "text": [
      "330.0円(税込み)\n"
     ]
    }
   ],
   "source": [
    "#商品購入時の消費税を、関数で計算するプログラムのソースコードを作成\n",
    "#1\t「課題の内容」の仕様通りの関数が定義されている\n",
    "#2\t定義した関数を呼び出し、使用されている\n",
    "#3\t戻り値で計算結果を返していること\n",
    "#4\t引数が適切に設定できていること\n",
    "\n",
    "\n",
    "def add_two_arguments(price, tax):\n",
    "  total = price * (1+tax/100)\n",
    "  return total\n",
    "price = 300\n",
    "tax = 10\n",
    "total = add_two_arguments(price, tax)\n",
    "print(f\"{total}円(税込み)\")"
   ]
  }
 ],
 "metadata": {
  "colab": {
   "provenance": []
  },
  "kernelspec": {
   "display_name": "Python 3",
   "name": "python3"
  },
  "language_info": {
   "name": "python"
  }
 },
 "nbformat": 4,
 "nbformat_minor": 0
}
