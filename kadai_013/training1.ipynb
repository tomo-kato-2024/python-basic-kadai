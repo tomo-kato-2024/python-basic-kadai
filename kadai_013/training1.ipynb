{
 "cells": [
  {
   "cell_type": "markdown",
   "metadata": {
    "id": "4858L7szJ3xr"
   },
   "source": [
    "# kadai_013"
   ]
  },
  {
   "cell_type": "code",
   "execution_count": 7,
   "metadata": {
    "colab": {
     "base_uri": "https://localhost:8080/"
    },
    "id": "8WETE0PvJ7-7",
    "outputId": "e2d2c749-f154-4dd3-dfde-aa03c23f3f69"
   },
   "outputs": [
    {
     "name": "stdout",
     "output_type": "stream",
     "text": [
      "366.3円(税込み)\n"
     ]
    }
   ],
   "source": [
    "#商品購入時の消費税を、関数で計算するプログラムのソースコードを作成\n",
    "#ヒント\n",
    "# 消費税を加えた計算結果を返す関数を記述する\n",
    "# 「結果を返す関数」なので戻り値を使用する\n",
    "# 第1引数に商品の金額、第2引数に消費税（10%）を設定する\n",
    "\n",
    "def add_two_arguments(price, tax):\n",
    "  total = price * (1+tax/100)\n",
    "  print(f\"{total}円(税込み)\")\n",
    "add_two_arguments(333,10)"
   ]
  }
 ],
 "metadata": {
  "colab": {
   "provenance": [],
   "toc_visible": true
  },
  "kernelspec": {
   "display_name": "Python 3",
   "name": "python3"
  },
  "language_info": {
   "name": "python"
  }
 },
 "nbformat": 4,
 "nbformat_minor": 0
}
