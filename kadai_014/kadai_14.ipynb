{
  "cells": [
    {
      "cell_type": "markdown",
      "metadata": {
        "id": "bFQR4LGKIZ6K"
      },
      "source": [
        "課題14"
      ]
    },
    {
      "cell_type": "code",
      "execution_count": 6,
      "metadata": {
        "colab": {
          "base_uri": "https://localhost:8080/"
        },
        "id": "CA3N5S7IIdBb",
        "outputId": "7e5dc6bc-0bed-425b-d76d-985f9dc86be2"
      },
      "outputs": [
        {
          "name": "stdout",
          "output_type": "stream",
          "text": [
            "330.0\n",
            "330.0\n"
          ]
        }
      ],
      "source": [
        "#スコープに関するエラーが発生。コードを修正する\n",
        "#price1 = 100\n",
        "#price2 = 200\n",
        "#\n",
        "#def total():\n",
        "#    tax = 1.1\n",
        "#    return price1 + price2\n",
        "#\n",
        "#print (total() * tax)\n",
        "\n",
        "#※taxはローカルスコープなのでエラーとなる。グローバルスコープとして修正\n",
        "price1 = 100\n",
        "price2 = 200\n",
        "tax = 1.1\n",
        "def total(price1, price2):\n",
        "    return price1 + price2\n",
        "print(total(price1, price2) * tax)\n",
        "\n",
        "#少し整理して作成\n",
        "price1 = 100\n",
        "price2 = 200\n",
        "tax = 1.1\n",
        "def total():\n",
        "    return price1 + price2\n",
        "print(total() * tax)"
      ]
    },
    {
      "cell_type": "code",
      "execution_count": null,
      "metadata": {
        "id": "bMYxUrdai0jM"
      },
      "outputs": [],
      "source": []
    }
  ],
  "metadata": {
    "colab": {
      "provenance": []
    },
    "kernelspec": {
      "display_name": "Python 3",
      "name": "python3"
    },
    "language_info": {
      "name": "python"
    }
  },
  "nbformat": 4,
  "nbformat_minor": 0
}
