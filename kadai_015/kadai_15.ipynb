{
  "cells": [
    {
      "cell_type": "markdown",
      "metadata": {
        "id": "bSE3WdkAJbJh"
      },
      "source": [
        "課題15"
      ]
    },
    {
      "cell_type": "code",
      "execution_count": 12,
      "metadata": {
        "colab": {
          "base_uri": "https://localhost:8080/"
        },
        "id": "enh7wIKnJgpd",
        "outputId": "8b1eb906-27da-43b0-a8fb-25136c73bd72"
      },
      "outputs": [
        {
          "name": "stdout",
          "output_type": "stream",
          "text": [
            "侍花子 20\n"
          ]
        }
      ],
      "source": [
        "#課題15\n",
        "#名前(name)と年齢(age)の属性を持つHumanクラスを作成\n",
        "#nameとageを標準出力(print)するメソッド(printinfo)を追加\n",
        "#Humanクラスのインスタンスは、変数に代入してプログラム内で使用する\n",
        "#1\t「課題の内容」の仕様通りのクラスが定義されている\n",
        "#2\tHumanクラスのインスタンスが変数に代入されている\n",
        "#3\t定義したクラスに属するメソッド(printinfo)を使用し、名前(name)と年齢(age)が出力されている\n",
        "\n",
        "#Humanクラスを作成\n",
        "class Human:\n",
        "  def __init__(self,name,age):\n",
        "  # 属性を定義する\n",
        "    self.name = name\n",
        "    self.age = age\n",
        "  # メソッドを定義する\n",
        "  def printinfo(self):\n",
        "    print(self.name,self.age)\n",
        "instance = Human(\"侍花子\",20)\n",
        "\n",
        "instance.printinfo()"
      ]
    }
  ],
  "metadata": {
    "colab": {
      "provenance": [],
      "toc_visible": true
    },
    "kernelspec": {
      "display_name": "Python 3",
      "name": "python3"
    },
    "language_info": {
      "name": "python"
    }
  },
  "nbformat": 4,
  "nbformat_minor": 0
}
