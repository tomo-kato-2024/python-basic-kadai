{
  "cells": [
    {
      "cell_type": "markdown",
      "metadata": {
        "id": "R_VrBVkpJvmw"
      },
      "source": [
        "課題17"
      ]
    },
    {
      "cell_type": "code",
      "execution_count": 13,
      "metadata": {
        "colab": {
          "base_uri": "https://localhost:8080/"
        },
        "id": "7ZY_G0HMJyW1",
        "outputId": "2122d457-4675-4f57-cf3a-abe14cac73bb"
      },
      "outputs": [
        {
          "name": "stdout",
          "output_type": "stream",
          "text": [
            "侍太郎は大人である\n",
            "侍花子は大人である\n",
            "侍小太郎は大人である\n",
            "侍小次郎は大人である\n",
            "侍小三郎は大人ではない\n",
            "侍美華は大人ではない\n",
            "侍一郎は大人である\n",
            "侍美香子は大人である\n"
          ]
        }
      ],
      "source": [
        "#課題17\n",
        "#名前(name)と年齢(age)の属性を持つHumanクラスを作成\n",
        "#Humanクラスには、以下の条件で標準出力(print)するcheck_adultメソッドを追加\n",
        "#・ageが20以上の場合に大人であること\n",
        "#・そうでない場合に大人でないこと\n",
        "#Humanクラスのインスタンスを複数生成してリストに追加\n",
        "#リストの要素数分だけcheck_adultメソッドを呼び出す\n",
        "\n",
        "\n",
        "class Human:      #Humanクラスを作成\n",
        "  def __init__(self, name, age):\n",
        "    self.name = name      #属性を定義する\n",
        "    self.age = age        #属性を定義する\n",
        "  def check_adult(self):    #check_adultメソッドを定義する\n",
        "    if self.age >= 20:      #条件を定義\n",
        "      print(f\"{self.name}は大人である\")\n",
        "    else:\n",
        "      print(f\"{self.name}は大人ではない\")\n",
        "\n",
        "# Humanクラスのインスタンスを複数生成し、リストに追加\n",
        "family = [\n",
        "    Human(\"侍太郎\", 48),\n",
        "    Human(\"侍花子\", 46),\n",
        "    Human(\"侍小太郎\",22),\n",
        "    Human(\"侍小次郎\", 20),\n",
        "    Human(\"侍小三郎\", 18),\n",
        "    Human(\"侍美華\", 16),\n",
        "    Human(\"侍一郎\", 77) ,\n",
        "    Human(\"侍美香子\",75) ,\n",
        "]\n",
        "\n",
        "# リストの要素数分だけcheck_adultメソッドを呼び出す\n",
        "i = 0\n",
        "while i < len(family):\n",
        "    family[i].check_adult()\n",
        "    i += 1"
      ]
    }
  ],
  "metadata": {
    "colab": {
      "provenance": [],
      "toc_visible": true
    },
    "kernelspec": {
      "display_name": "Python 3",
      "name": "python3"
    },
    "language_info": {
      "name": "python"
    }
  },
  "nbformat": 4,
  "nbformat_minor": 0
}
